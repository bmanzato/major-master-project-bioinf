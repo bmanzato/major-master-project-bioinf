{
 "cells": [
  {
   "cell_type": "markdown",
   "id": "e84f1038",
   "metadata": {},
   "source": [
    "# BPES\n",
    "\n",
    "Literature search for genetic variants related to [blepharophimosis, ptosis, epicanthus inversus syndrome (BPES)](https://en.wikipedia.org/wiki/Blepharophimosis,_ptosis,_epicanthus_inversus_syndrome)."
   ]
  },
  {
   "cell_type": "code",
   "execution_count": 1,
   "id": "550d935d",
   "metadata": {},
   "outputs": [],
   "source": [
    "import math\n",
    "import networkx as nx\n",
    "import pandas as pd\n",
    "import re\n",
    "#from pyvis.network import Network"
   ]
  },
  {
   "cell_type": "markdown",
   "id": "38defcd2",
   "metadata": {},
   "source": [
    "Load the Pubtator results and select the variants that were found, together with their associated genes."
   ]
  },
  {
   "cell_type": "code",
   "execution_count": 2,
   "id": "26a35fca",
   "metadata": {},
   "outputs": [],
   "source": [
    "pubtator_file = \"pubtator_results_bpes_syndrome.txt\"\n",
    "unique_mutations = []\n",
    "mutations = []\n",
    "genes = {}\n",
    "with open(pubtator_file, \"r\") as fh:\n",
    "    for line in fh:\n",
    "        line = line.split(\"\\t\")\n",
    "        if len(line) > 1:\n",
    "            pmid = line[0].strip()\n",
    "            concept = line[4].strip()\n",
    "            if concept == \"Gene\":\n",
    "                gene_name = line[3].strip()\n",
    "                gene_id = line[5].strip()\n",
    "                genes[gene_id] = gene_name\n",
    "            if concept == \"DNAMutation\" or concept == \"ProteinMutation\":\n",
    "                mutation = line[3].strip()\n",
    "                if mutation not in unique_mutations:\n",
    "                    mutation_annotation = line[5]\n",
    "                    corresponding_gene = re.search(\"CorrespondingGene:(\\d+)\", mutation_annotation)\n",
    "                    corresponding_gene_id = corresponding_gene.group(1)\n",
    "                    corresponding_gene_name = genes[corresponding_gene_id]\n",
    "                    mutations.append([pmid, concept, mutation, corresponding_gene_name])\n",
    "                    unique_mutations.append(mutation)\n",
    "        else:\n",
    "            continue\n",
    "mutations_df = pd.DataFrame(mutations, columns=[\"PMID\", \"type\", \"mutation\", \"gene\"])"
   ]
  },
  {
   "cell_type": "code",
   "execution_count": 3,
   "id": "46d6052c",
   "metadata": {},
   "outputs": [
    {
     "data": {
      "text/html": [
       "<div>\n",
       "<style scoped>\n",
       "    .dataframe tbody tr th:only-of-type {\n",
       "        vertical-align: middle;\n",
       "    }\n",
       "\n",
       "    .dataframe tbody tr th {\n",
       "        vertical-align: top;\n",
       "    }\n",
       "\n",
       "    .dataframe thead th {\n",
       "        text-align: right;\n",
       "    }\n",
       "</style>\n",
       "<table border=\"1\" class=\"dataframe\">\n",
       "  <thead>\n",
       "    <tr style=\"text-align: right;\">\n",
       "      <th></th>\n",
       "      <th>PMID</th>\n",
       "      <th>type</th>\n",
       "      <th>mutation</th>\n",
       "      <th>gene</th>\n",
       "    </tr>\n",
       "  </thead>\n",
       "  <tbody>\n",
       "    <tr>\n",
       "      <th>0</th>\n",
       "      <td>22248822</td>\n",
       "      <td>ProteinMutation</td>\n",
       "      <td>p.C134W</td>\n",
       "      <td>FOXL2</td>\n",
       "    </tr>\n",
       "    <tr>\n",
       "      <th>1</th>\n",
       "      <td>22312189</td>\n",
       "      <td>ProteinMutation</td>\n",
       "      <td>p.Ser217Cys</td>\n",
       "      <td>FOXL2</td>\n",
       "    </tr>\n",
       "    <tr>\n",
       "      <th>2</th>\n",
       "      <td>22336067</td>\n",
       "      <td>DNAMutation</td>\n",
       "      <td>c. 672_701dup30</td>\n",
       "      <td>FOXL2</td>\n",
       "    </tr>\n",
       "    <tr>\n",
       "      <th>3</th>\n",
       "      <td>22336067</td>\n",
       "      <td>ProteinMutation</td>\n",
       "      <td>p. Ala224_Ala234dup</td>\n",
       "      <td>FOXL2</td>\n",
       "    </tr>\n",
       "    <tr>\n",
       "      <th>4</th>\n",
       "      <td>22336067</td>\n",
       "      <td>DNAMutation</td>\n",
       "      <td>c.655C &gt; T</td>\n",
       "      <td>FOXL2</td>\n",
       "    </tr>\n",
       "  </tbody>\n",
       "</table>\n",
       "</div>"
      ],
      "text/plain": [
       "       PMID             type             mutation   gene\n",
       "0  22248822  ProteinMutation              p.C134W  FOXL2\n",
       "1  22312189  ProteinMutation          p.Ser217Cys  FOXL2\n",
       "2  22336067      DNAMutation      c. 672_701dup30  FOXL2\n",
       "3  22336067  ProteinMutation  p. Ala224_Ala234dup  FOXL2\n",
       "4  22336067      DNAMutation           c.655C > T  FOXL2"
      ]
     },
     "execution_count": 3,
     "metadata": {},
     "output_type": "execute_result"
    }
   ],
   "source": [
    "mutations_df.head()"
   ]
  },
  {
   "cell_type": "code",
   "execution_count": 4,
   "id": "308f1fc3",
   "metadata": {},
   "outputs": [
    {
     "data": {
      "text/plain": [
       "['FOXL2', 'BMP15', 'NR2F2', 'OSR2', 'StAR', 'ITGB5', 'POF', 'SEPT9']"
      ]
     },
     "execution_count": 4,
     "metadata": {},
     "output_type": "execute_result"
    }
   ],
   "source": [
    "mutations_df[\"gene\"] = mutations_df[\"gene\"].replace([\"forkhead transcription factor FOXL2\"], \"FOXL2\")\n",
    "mutation_genes = list(mutations_df[\"gene\"].unique())\n",
    "mutation_genes"
   ]
  },
  {
   "cell_type": "markdown",
   "id": "a1a633e0",
   "metadata": {},
   "source": [
    "Check if any of these genes mutated in BPES match the genes that came out of the long-read sequencing variant analysis."
   ]
  },
  {
   "cell_type": "markdown",
   "id": "acf3d516",
   "metadata": {},
   "source": [
    "Go through the Pubtator search results again and build a network of the genes, mutations, and diseases that were found."
   ]
  },
  {
   "cell_type": "code",
   "execution_count": 9,
   "id": "16f82c85",
   "metadata": {},
   "outputs": [
    {
     "ename": "NameError",
     "evalue": "name 'Network' is not defined",
     "output_type": "error",
     "traceback": [
      "\u001b[0;31m---------------------------------------------------------------------------\u001b[0m",
      "\u001b[0;31mNameError\u001b[0m                                 Traceback (most recent call last)",
      "Input \u001b[0;32mIn [9]\u001b[0m, in \u001b[0;36m<module>\u001b[0;34m\u001b[0m\n\u001b[0;32m----> 1\u001b[0m pubtator_network \u001b[38;5;241m=\u001b[39m \u001b[43mNetwork\u001b[49m()\n\u001b[1;32m      2\u001b[0m pubtator_network\u001b[38;5;241m.\u001b[39mrepulsion()\n\u001b[1;32m      3\u001b[0m unique_mutations \u001b[38;5;241m=\u001b[39m []\n",
      "\u001b[0;31mNameError\u001b[0m: name 'Network' is not defined"
     ]
    }
   ],
   "source": [
    "pubtator_network = Network()\n",
    "pubtator_network.repulsion()\n",
    "unique_mutations = []\n",
    "unique_publications = []\n",
    "diseases = {}\n",
    "genes = {}\n",
    "with open(pubtator_file, \"r\") as fh:\n",
    "    for line in fh:\n",
    "        line = line.split(\"\\t\")\n",
    "        if len(line) > 1:\n",
    "            pmid = line[0].strip()\n",
    "            if pmid not in unique_publications:\n",
    "                unique_publications.append(pmid)\n",
    "                pubtator_network.add_node(pmid, label=pmid, color=\"#f48484\")\n",
    "            concept = line[4].strip()\n",
    "            if concept == \"Gene\":\n",
    "                gene_id = line[5].strip()\n",
    "                if gene_id not in genes:\n",
    "                    gene_name = line[3].strip()\n",
    "                    genes[gene_id] = gene_name\n",
    "                    pubtator_network.add_node(gene_id, label=gene_name, color=\"#6096b4\", \n",
    "                                              title=gene_name)\n",
    "                    pubtator_network.add_edge(pmid, gene_id)\n",
    "            elif concept == \"DNAMutation\" or concept == \"ProteinMutation\":\n",
    "                mutation = line[3].strip()\n",
    "                if mutation not in unique_mutations:\n",
    "                    mutation_annotation = line[5]\n",
    "                    corresponding_gene = re.search(\"CorrespondingGene:(\\d+)\", mutation_annotation)\n",
    "                    corresponding_gene_id = corresponding_gene.group(1)\n",
    "                    unique_mutations.append(mutation)\n",
    "                    pubtator_network.add_node(mutation, label=mutation, color=\"#93bfcf\", \n",
    "                                              title=mutation)\n",
    "                    pubtator_network.add_edge(pmid, mutation)\n",
    "                    pubtator_network.add_edge(mutation, corresponding_gene_id)\n",
    "            elif concept == \"Disease\":\n",
    "                disease_id = line[5].strip()\n",
    "                if disease_id != \"\":\n",
    "                    disease_name = line[3].strip()\n",
    "                    diseases[disease_id] = disease_name\n",
    "                    pubtator_network.add_node(disease_id, label=disease_name, \n",
    "                                              color=\"#e8d286\", title=disease_name)\n",
    "                    pubtator_network.add_edge(pmid, disease_id)\n",
    "        else:\n",
    "            continue"
   ]
  },
  {
   "cell_type": "code",
   "execution_count": 10,
   "id": "93255656",
   "metadata": {},
   "outputs": [
    {
     "ename": "NameError",
     "evalue": "name 'pubtator_network' is not defined",
     "output_type": "error",
     "traceback": [
      "\u001b[0;31m---------------------------------------------------------------------------\u001b[0m",
      "\u001b[0;31mNameError\u001b[0m                                 Traceback (most recent call last)",
      "Input \u001b[0;32mIn [10]\u001b[0m, in \u001b[0;36m<module>\u001b[0;34m\u001b[0m\n\u001b[0;32m----> 1\u001b[0m \u001b[43mpubtator_network\u001b[49m\u001b[38;5;241m.\u001b[39mtoggle_physics(\u001b[38;5;28;01mTrue\u001b[39;00m)\n\u001b[1;32m      2\u001b[0m pubtator_network\u001b[38;5;241m.\u001b[39mshow(\u001b[38;5;124m\"\u001b[39m\u001b[38;5;124mpubtator_graph.html\u001b[39m\u001b[38;5;124m\"\u001b[39m)\n",
      "\u001b[0;31mNameError\u001b[0m: name 'pubtator_network' is not defined"
     ]
    }
   ],
   "source": [
    "pubtator_network.toggle_physics(True)\n",
    "pubtator_network.show(\"pubtator_graph.html\")"
   ]
  },
  {
   "cell_type": "code",
   "execution_count": null,
   "id": "aa50261a",
   "metadata": {},
   "outputs": [],
   "source": []
  },
  {
   "cell_type": "code",
   "execution_count": null,
   "id": "e17cc48c",
   "metadata": {},
   "outputs": [],
   "source": []
  }
 ],
 "metadata": {
  "kernelspec": {
   "display_name": "Python 3 (ipykernel)",
   "language": "python",
   "name": "python3"
  },
  "language_info": {
   "codemirror_mode": {
    "name": "ipython",
    "version": 3
   },
   "file_extension": ".py",
   "mimetype": "text/x-python",
   "name": "python",
   "nbconvert_exporter": "python",
   "pygments_lexer": "ipython3",
   "version": "3.10.9"
  }
 },
 "nbformat": 4,
 "nbformat_minor": 5
}
